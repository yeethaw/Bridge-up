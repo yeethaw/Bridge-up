{
 "cells": [
  {
   "cell_type": "markdown",
   "metadata": {
    "deletable": true,
    "editable": true
   },
   "source": [
    "# Analyzing your experimental data\n",
    "\n",
    "Use this Jupyter Notebook to analyze the data from your experiment"
   ]
  },
  {
   "cell_type": "markdown",
   "metadata": {
    "deletable": true,
    "editable": true
   },
   "source": [
    "Put your data into one or more list as relevant for your experiment (one sample, one list; two samples, two lists):"
   ]
  },
  {
   "cell_type": "code",
   "execution_count": 6,
   "metadata": {
    "collapsed": false,
    "deletable": true,
    "editable": true
   },
   "outputs": [],
   "source": [
    "white_times = [69, 61]\n",
    "orange_times = [61.6, 60]\n",
    "yellow_times = [52.02 , 53.9]\n",
    "pink_times = [48.69, 65]\n",
    "green_times = [36.42, 56.62]\n",
    "\n",
    "times = [white_times, orange_times, yellow_times, pink_times, green_times]"
   ]
  },
  {
   "cell_type": "markdown",
   "metadata": {
    "deletable": true,
    "editable": true
   },
   "source": [
    "Consider how you can loops and/or conditionals to analyze your data. Use the cell below to do so if you think this would be helpful:"
   ]
  },
  {
   "cell_type": "code",
   "execution_count": 2,
   "metadata": {
    "collapsed": true,
    "deletable": true,
    "editable": true
   },
   "outputs": [],
   "source": [
    "import numpy as np"
   ]
  },
  {
   "cell_type": "code",
   "execution_count": 18,
   "metadata": {
    "collapsed": false
   },
   "outputs": [
    {
     "name": "stdout",
     "output_type": "stream",
     "text": [
      "F_onewayResult(statistic=1.3637221234145513, pvalue=0.36448690090747232)\n"
     ]
    }
   ],
   "source": [
    "from scipy import stats\n",
    "\n",
    "print(stats.f_oneway (white_times, orange_times, yellow_times, pink_times, green_times))"
   ]
  },
  {
   "cell_type": "code",
   "execution_count": null,
   "metadata": {
    "collapsed": true
   },
   "outputs": [],
   "source": []
  },
  {
   "cell_type": "markdown",
   "metadata": {
    "deletable": true,
    "editable": true
   },
   "source": [
    "Now find the mean of your dataset(s). Hint: You will need to import numpy."
   ]
  },
  {
   "cell_type": "code",
   "execution_count": 4,
   "metadata": {
    "collapsed": false,
    "deletable": true,
    "editable": true
   },
   "outputs": [
    {
     "name": "stdout",
     "output_type": "stream",
     "text": [
      "[65.0, 60.799999999999997, 52.960000000000001, 56.844999999999999, 46.519999999999996]\n"
     ]
    }
   ],
   "source": [
    "avg_w = np.mean(white_times)\n",
    "avg_o = np.mean(orange_times)\n",
    "avg_y = np.mean(yellow_times)\n",
    "avg_p = np.mean(pink_times)\n",
    "avg_g = np.mean(green_times)\n",
    "\n",
    "avg_list = [avg_w, avg_o, avg_y, avg_p, avg_g]\n",
    "\n",
    "print(avg_list)"
   ]
  },
  {
   "cell_type": "markdown",
   "metadata": {
    "deletable": true,
    "editable": true
   },
   "source": [
    "Next, find the standard deviation and variance using the np.std() and np.var() functions."
   ]
  },
  {
   "cell_type": "code",
   "execution_count": 21,
   "metadata": {
    "collapsed": false,
    "deletable": true,
    "editable": true
   },
   "outputs": [
    {
     "name": "stdout",
     "output_type": "stream",
     "text": [
      "4.0\n",
      "0.8\n",
      "0.94\n",
      "8.155\n",
      "10.1\n",
      "________\n",
      "16.0\n",
      "0.64\n",
      "0.8836\n",
      "66.504025\n",
      "102.01\n"
     ]
    }
   ],
   "source": [
    "print(np.std(white_times))\n",
    "print(np.std(orange_times))\n",
    "print(np.std(yellow_times))\n",
    "print(np.std(pink_times))\n",
    "print(np.std(green_times))\n",
    "print(\"________\")\n",
    "print(np.var(white_times))\n",
    "print(np.var(orange_times))\n",
    "print(np.var(yellow_times))\n",
    "print(np.var(pink_times))\n",
    "print(np.var(green_times))"
   ]
  },
  {
   "cell_type": "markdown",
   "metadata": {
    "deletable": true,
    "editable": true
   },
   "source": [
    "Now, find your t-value. Use the relevant code below:"
   ]
  },
  {
   "cell_type": "code",
   "execution_count": 42,
   "metadata": {
    "collapsed": false,
    "deletable": true,
    "editable": true
   },
   "outputs": [
    {
     "ename": "SyntaxError",
     "evalue": "invalid syntax (<ipython-input-42-efcfef3f2893>, line 5)",
     "output_type": "error",
     "traceback": [
      "\u001b[0;36m  File \u001b[0;32m\"<ipython-input-42-efcfef3f2893>\"\u001b[0;36m, line \u001b[0;32m5\u001b[0m\n\u001b[0;31m    print(stats.ttest_1samp(, pop_mean))\u001b[0m\n\u001b[0m                            ^\u001b[0m\n\u001b[0;31mSyntaxError\u001b[0m\u001b[0;31m:\u001b[0m invalid syntax\n"
     ]
    }
   ],
   "source": [
    "#we weren't able to find the t-value (refer to cell after importing numpy)\n",
    "\n",
    "#one sample t-test\n",
    "from scipy import stats\n",
    "print(stats.ttest_1samp(, pop_mean))"
   ]
  },
  {
   "cell_type": "markdown",
   "metadata": {
    "collapsed": false,
    "deletable": true,
    "editable": true
   },
   "source": [
    "### two sample t-test\n",
    "from scipy import stats\n",
    "print(stats.ttest_ind(data_list_1, data_list_2))"
   ]
  },
  {
   "cell_type": "code",
   "execution_count": null,
   "metadata": {
    "collapsed": true
   },
   "outputs": [],
   "source": []
  },
  {
   "cell_type": "markdown",
   "metadata": {
    "deletable": true,
    "editable": true
   },
   "source": [
    "Next, it's time to make a graph that visualizes your results. You can create a histogram for your datasets using matplotlib:"
   ]
  },
  {
   "cell_type": "code",
   "execution_count": 44,
   "metadata": {
    "collapsed": false,
    "deletable": true,
    "editable": true
   },
   "outputs": [
    {
     "data": {
      "image/png": "[encoded data removed]",
      "text/plain": [
       "<matplotlib.figure.Figure at 0x11e4317f0>"
      ]
     },
     "metadata": {},
     "output_type": "display_data"
    }
   ],
   "source": [
    "import matplotlib.pyplot as plt\n",
    "\n",
    "# Create a bar graph\n",
    "plt.bar(1, avg_w, color = 'white', edgecolor= 'black')\n",
    "plt.bar(2, avg_o, color = 'orange')\n",
    "plt.bar(3, avg_y, color = 'yellow')\n",
    "plt.bar(4, avg_p, color = 'pink')\n",
    "plt.bar(5,avg_g, color = 'green')\n",
    "\n",
    "plt.xticks ([1,2,3,4,5], ('white', 'orange','yellow','pink','green'))\n",
    "\n",
    "# Add a title and axis labels\n",
    "plt.suptitle(\"Time Took To Complete Word Puzzle On Different Colored Paper \")\n",
    "plt.xlabel(\"color\")\n",
    "plt.ylabel(\"average time took\")\n",
    "\n",
    "\n",
    "\n",
    "# Show the graph\n",
    "plt.show()"
   ]
  },
  {
   "cell_type": "markdown",
   "metadata": {
    "deletable": true,
    "editable": true
   },
   "source": [
    "If you want to make another kind of graph, ask for help!"
   ]
  }
 ],
 "metadata": {
  "kernelspec": {
   "display_name": "Python 3",
   "language": "python",
   "name": "python3"
  },
  "language_info": {
   "codemirror_mode": {
    "name": "ipython",
    "version": 3
   },
   "file_extension": ".py",
   "mimetype": "text/x-python",
   "name": "python",
   "nbconvert_exporter": "python",
   "pygments_lexer": "ipython3",
   "version": "3.5.2"
  }
 },
 "nbformat": 4,
 "nbformat_minor": 2
}
