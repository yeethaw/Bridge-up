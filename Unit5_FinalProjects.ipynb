{
 "cells": [
  {
   "cell_type": "markdown",
   "metadata": {
    "deletable": true,
    "editable": true
   },
   "source": [
    "# Final Projects: Calculating evolutionary distance\n",
    "\n",
    "In this notebook you will compare the amino acid sequence of hemoglobin alpha from 3 different species to find out which two are most closely related."
   ]
  },
  {
   "cell_type": "code",
   "execution_count": null,
   "metadata": {
    "collapsed": true,
    "deletable": true,
    "editable": true
   },
   "outputs": [],
   "source": []
  },
  {
   "cell_type": "markdown",
   "metadata": {
    "deletable": true,
    "editable": true
   },
   "source": [
    "You'll need to copy and paste the function from last class that finds the number of differences in two sequences:"
   ]
  },
  {
   "cell_type": "code",
   "execution_count": 20,
   "metadata": {
    "collapsed": true,
    "deletable": true,
    "editable": true
   },
   "outputs": [],
   "source": [
    "#transcription function\n",
    "def transcription(dna):\n",
    "    dic = {'A': 'U', 'T':'A' , 'G':'C', 'C':'G'}\n",
    "    mrna = ''\n",
    "    \n",
    "    for item in dna:\n",
    "        mrna += (dic[item])\n",
    "    return mrna\n",
    "\n",
    "#translation function\n",
    "def translation(mrna):\n",
    "    dic = {'UUU':'F', 'UUC':'F','UUA':'L','UUG':'L','CUU':'L','CUC':'L','CUA':'L','CUG':'L','AUU':'I','AUC':'I','AUA':'I','AUG':'M','GUU':'V','GUC':'V','GUA':'V','GUG':'V','UCU':'S','UCC':'S','UCA':'S','UCG':'S','CCU':'P','CCC':'P','CCA':'P','CCG':'P','ACU':'T','ACC':'T','ACA':'T','ACG':'T','GCU':'A','GCC':'A','GCA':'A','GCG':'A','UAU':'Y','UAC':'Y','UAA':'X','UAG':'X','CAU':'H','CAC':'H','CAA':'Q','CAG':'Q','AAU':'N','AAC':'N','AAA':'K','AAG':'K','GAU':'D','GAC':'D','GAA':'E','GAG':'E','UGU':'C','UGC':'C','UGA':'X','UGG':'W','CGU':'R','CGC':'R','CGA':'R','CGG':'R','AGU':'S','AGC':'S','AGA':'R','AGG':'R','GGU':'G','GGC':'G','GGA':'G','GGG':'G'}\n",
    "    codon = ''\n",
    "    amino =''\n",
    "    \n",
    "    for base in mrna:\n",
    "        codon += base\n",
    "        \n",
    "        if len(codon) == 3:\n",
    "            amino += (dic[codon])\n",
    "            codon = ''\n",
    "    \n",
    "    return amino"
   ]
  },
  {
   "cell_type": "markdown",
   "metadata": {
    "deletable": true,
    "editable": true
   },
   "source": [
    "In order to compare the different amino acid sequences, we need to open the files and read the sequences into new variables:"
   ]
  },
  {
   "cell_type": "code",
   "execution_count": 3,
   "metadata": {
    "collapsed": false,
    "deletable": true,
    "editable": true
   },
   "outputs": [
    {
     "name": "stdout",
     "output_type": "stream",
     "text": [
      "1140\n",
      "1140\n",
      "1140\n"
     ]
    }
   ],
   "source": [
    "\n",
    "#opening text files of DNA\n",
    "hdna = open(\"5_hedgehog_CYTB_DNA.txt\").read()\n",
    "mdna = open(\"5_mouse_CYTB_DNA.txt\").read()\n",
    "rdna = open(\"5_rabbit_CYTB_DNA.txt\").read()\n",
    "\n",
    "print(len(hdna))\n",
    "print(len(mdna))\n",
    "print(len(rdna))"
   ]
  },
  {
   "cell_type": "markdown",
   "metadata": {
    "deletable": true,
    "editable": true
   },
   "source": [
    "Decide as a group whether you want to compare DNA or protein sequences for your species. What are the pros and cons of each?"
   ]
  },
  {
   "cell_type": "markdown",
   "metadata": {
    "deletable": true,
    "editable": true
   },
   "source": [
    "Now call the number of differences function 3 times to compare all three of your species' sequences."
   ]
  },
  {
   "cell_type": "code",
   "execution_count": 4,
   "metadata": {
    "collapsed": false,
    "deletable": true,
    "editable": true
   },
   "outputs": [
    {
     "name": "stdout",
     "output_type": "stream",
     "text": [
      "MLNIRKIHPLLKIVNNSLIDLPTPSNISSXXNFGSLLGLCLIIQITTGLFLAIHYTADTLSAFSSVSHICRDVNYGXLIRYLHANGASIFFICLFIHIGRGIYYGSYLFKETXNIGIILLITTIATAFIGYVLPXGQISFXGATVITNLLSAIPYIGTDLVQXIXGAFSVDKATLTRFFALHFILPFIIIALTIIHLLFLHETGSNNPTGIISESEKIPFHPYYTIKDILGIILLIIILTILTLFSPDLLSDPDNYTPANPLNTPPHIKPEXYFLFAYAILRSIPNKLGGVIALFISILILFFIPLLHTSKQRSIIFRPLSQCIFXILISDLLILTXIGSQPVENPYIIIGQLASVFYFFIILILIPLSGLIENHIFKXR\n",
      "380\n",
      "380\n",
      "380\n"
     ]
    }
   ],
   "source": [
    "\n",
    "#putting the protein sequences into variables\n",
    "hpro = translation(transcription(hdna))\n",
    "mpro = translation(transcription(mdna))\n",
    "rpro = translation(transcription(rdna))\n",
    "\n",
    "print(hpro)\n",
    "print(len(hpro))\n",
    "print(len(mpro))\n",
    "print(len(rpro))"
   ]
  },
  {
   "cell_type": "code",
   "execution_count": 5,
   "metadata": {
    "collapsed": false,
    "deletable": true,
    "editable": true
   },
   "outputs": [
    {
     "name": "stdout",
     "output_type": "stream",
     "text": [
      "1140\n",
      "1140\n",
      "1140\n"
     ]
    }
   ],
   "source": [
    "print(len(transcription(hdna)))\n",
    "print(len(transcription(mdna)))\n",
    "print(len(transcription(rdna)))"
   ]
  },
  {
   "cell_type": "code",
   "execution_count": 6,
   "metadata": {
    "collapsed": false,
    "deletable": true,
    "editable": true
   },
   "outputs": [
    {
     "name": "stdout",
     "output_type": "stream",
     "text": [
      "TACTGGTTGTAAGCGTTTTGGGTGGGGGATAATTTTTAACAATTGGTGAGGGATTAACTGGAAGGACGAGGTAGTTTGTAGAGACGGACTACTTTGAAACCGAGAGATGATCCGGACACGGAATATTAAGTTTAAAAGTGACCGGATAAGAATCGGTATGTGATGTGGAGACTGTGTTGTTGTCGTAAGAGTAGTCATTGGGTATAAACGGCTCTACAATTGATACCGACTGAATAGGCTATGGAGGTGCGATTGCCTCGTAGATATAAGAAATAAACGGAGATGTATGTGCATCCGGCGCCTTAGATGATACCTAGTATGTGTATGGATCTCTGGACTTTGTAACCGTAGTAGGAGGATAAGCGTCATTATCGGTGTCGTAAATAGCCAATACAGGAGGGTACTCCTGTTTATAGTAATACCCCTCGTTGGCATTAGTGATTGGAGGATAGTCGTTAGGGTATATAGCCTTGTTGGAATCAACTTACTTAGACTCCTCCTAAAAGTCAACTATTTCGGTGAGAATGGGCTAAGAAGCGAAAAGTGAAGTAGAACGGTAAATAGTAACGTTGAAATCAGAATTAAGTGGAGGAGAAAGATGTACTTTGACCGAGGTTGTTGGGTTGTCCTTAAGGAAGTTTGAGTCTATTTTAGGGAAAGGTGGGGATGATGTGTTAGTTTCTGTGGGATCCAAAGGAACATCGGTAAGAAGAGGAGGAATAAAATCAGGATAAAAGTGGTCTGGATAATCCTCTGGGTCTGTTGATGTGGGGACGGTTGGGGGAATTATGGGGAGGGGTATAGTTTGGTCTTACTATGAAAGATAAACGGATGCGATAGGATGCGAGATAAGGTTTATTTGAGCCTCCTCAGGATCGAGATCAGGATAGGTAGGAACAAGATCGGAAGTAGGGTAAGGAAGTATACAGATTTGTTGCATCGTACTATAAGGCTGGGTAATCAGTTCAGGATAAGACTCAAGAGCAGCGTCTAGAAGAGTGTGAGTGTACTTAGCCTCCGGTTGGTCATCTTGTGGGCAAGTAGTGGTAACCTGTTCATCGTAGACAGGAGATGAAGAGGTGGTAGGAATAAGAATATGGGGAGCGTTCGGATTAGCTTTTGTTTTAGGAGTTTACTTCC\n"
     ]
    }
   ],
   "source": [
    "print(rdna)"
   ]
  },
  {
   "cell_type": "markdown",
   "metadata": {
    "deletable": true,
    "editable": true
   },
   "source": [
    "What can you conclude based on the number of differences between each pair of species?\n",
    "\n",
    "Next, create a function that returns the percent difference between sequences and call it for your three comparisons:"
   ]
  },
  {
   "cell_type": "code",
   "execution_count": 18,
   "metadata": {
    "collapsed": false,
    "deletable": true,
    "editable": true
   },
   "outputs": [],
   "source": [
    "\n",
    "#making our difference function\n",
    "def percdif(seq1 , seq2):\n",
    "    difference = 0\n",
    "    \n",
    "    for i, aa in enumerate(seq1):\n",
    "         if seq2[i] != aa:\n",
    "                difference += 1\n",
    "    \n",
    "    percent = difference / len(seq1) * 100\n",
    "    \n",
    "    return percent"
   ]
  },
  {
   "cell_type": "code",
   "execution_count": 24,
   "metadata": {
    "collapsed": false,
    "deletable": true,
    "editable": true
   },
   "outputs": [
    {
     "name": "stdout",
     "output_type": "stream",
     "text": [
      "25.438596491228072 26.49122807017544 23.24561403508772\n"
     ]
    }
   ],
   "source": [
    "\n",
    "#assigning protein differences to variables\n",
    "hrp = percdif(hpro , rpro)\n",
    "hmp = percdif(hpro , mpro)\n",
    "mrp = percdif(mpro , rpro)\n",
    "\n",
    "#assigning DNA differences to variables\n",
    "hrd = percdif(hdna , rdna)\n",
    "hmd = percdif(hdna , mdna)\n",
    "mrd = percdif(mdna , rdna)\n",
    "\n",
    "print(hrd , hmd ,mrd)"
   ]
  },
  {
   "cell_type": "markdown",
   "metadata": {
    "deletable": true,
    "editable": true
   },
   "source": [
    "Let's visualize these results! Choose a graph type that you think will communicate your conclusions effectively and create it using matplotlib:"
   ]
  },
  {
   "cell_type": "code",
   "execution_count": 26,
   "metadata": {
    "collapsed": false,
    "deletable": true,
    "editable": true
   },
   "outputs": [
    {
     "data": {
      "image/png": "[encoded data removed]",
      "text/plain": [
       "<matplotlib.figure.Figure at 0x120565f28>"
      ]
     },
     "metadata": {},
     "output_type": "display_data"
    }
   ],
   "source": [
    "\n",
    "#importing matplotlib to graph \n",
    "#seaborn for style tm\n",
    "import matplotlib.pyplot as plt\n",
    "import seaborn;seaborn.set()\n",
    "\n",
    "\n",
    "#plotting the graphs - plotting each pair separetly \n",
    "#makes each bar, making each one a diff colour\n",
    "plt.clf()\n",
    "plt.bar(1, hrp, color = \"gold\")\n",
    "plt.bar(2, mrp, color = \"turquoise\")\n",
    "plt.bar(3, hmp, color = \"hotpink\")\n",
    "\n",
    "#title and stuff\n",
    "plt.title(\"differences in Proteins between hedgehogs, rabbits, and mice\")\n",
    "plt.ylabel(\"Difference in Protein (percentage)\")\n",
    "plt.xticks([1,2,3],('Hedgehog and Rabbit',' Mouse and Rabbit',' Hedgehog and Mouse'))\n",
    "plt.savefig(\"protein diff.png\")\n",
    "plt.show()"
   ]
  },
  {
   "cell_type": "code",
   "execution_count": 25,
   "metadata": {
    "collapsed": false,
    "deletable": true,
    "editable": true
   },
   "outputs": [
    {
     "data": {
      "image/png": "[encoded data removed]",
      "text/plain": [
       "<matplotlib.figure.Figure at 0x1203dfb70>"
      ]
     },
     "metadata": {},
     "output_type": "display_data"
    }
   ],
   "source": [
    "\n",
    "#plotting the graphs - plotting each pair separetly \n",
    "#makes each bar, making each one a diff colour\n",
    "plt.clf()\n",
    "plt.bar(1, hrd, color = \"gold\")\n",
    "plt.bar(2, mrd, color = \"turquoise\")\n",
    "plt.bar(3, hmd, color = \"hotpink\")\n",
    "\n",
    "#title and stuff\n",
    "plt.title(\"differences in DNA between hedgehogs, rabbits, and mice\")\n",
    "plt.ylabel(\"Difference in DNA (percentage)\")\n",
    "plt.xticks([1,2,3],('Hedgehog and Rabbit',' Mouse and Rabbit',' Hedgehog and Mouse'))\n",
    "plt.savefig(\"dna diff.png\")\n",
    "plt.show()"
   ]
  },
  {
   "cell_type": "markdown",
   "metadata": {
    "deletable": true,
    "editable": true
   },
   "source": [
    "## Coding Challenge\n",
    "If you finish your project and want to try a challenge, come up with a hypothesis about which of the following species are most closely related to humans (carp, chicken, chimp, dog, eel, elephant, frog, gorilla, macaque monkey, mouse, orangutan, pig). Write out a ranked list with the species you think is most related to humans at the top.\n",
    "\n",
    "Then calculate the percent difference between the hemoglobin amino acid sequences of humans and each species to find out how close you came to the right ranking!"
   ]
  },
  {
   "cell_type": "code",
   "execution_count": null,
   "metadata": {
    "collapsed": true,
    "deletable": true,
    "editable": true
   },
   "outputs": [],
   "source": []
  }
 ],
 "metadata": {
  "kernelspec": {
   "display_name": "Python 3",
   "language": "python",
   "name": "python3"
  },
  "language_info": {
   "codemirror_mode": {
    "name": "ipython",
    "version": 3
   },
   "file_extension": ".py",
   "mimetype": "text/x-python",
   "name": "python",
   "nbconvert_exporter": "python",
   "pygments_lexer": "ipython3",
   "version": "3.5.2"
  }
 },
 "nbformat": 4,
 "nbformat_minor": 2
}
